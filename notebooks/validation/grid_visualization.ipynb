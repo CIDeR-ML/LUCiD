{
 "cells": [
  {
   "cell_type": "markdown",
   "metadata": {},
   "source": [
    "# Simple Grid Element Visualization\n",
    "\n",
    "This notebook uses the visualize_grid_element.py script to show grid elements."
   ]
  },
  {
   "cell_type": "code",
   "execution_count": null,
   "metadata": {},
   "outputs": [],
   "source": [
    "import sys\n",
    "sys.path.append('../../')\n",
    "from visualize_grid_element import visualize_grid_element"
   ]
  },
  {
   "cell_type": "code",
   "execution_count": null,
   "metadata": {},
   "outputs": [],
   "source": [
    "# Configuration\n",
    "config_file = '../../config/HK_geom_config.json'\n",
    "\n",
    "# Grid parameters - these should match what you use in your simulation\n",
    "n_angular = 20\n",
    "n_height = 50\n",
    "n_cap = 20\n",
    "max_detectors_per_cell = 150\n",
    "\n",
    "# Calculate total grid cells\n",
    "n_wall_cells = n_angular * n_height\n",
    "n_cap_cells = n_cap * n_cap\n",
    "total_grid_cells = n_wall_cells + 2 * n_cap_cells\n",
    "\n",
    "print(f\"Total grid cells: {total_grid_cells}\")\n",
    "print(f\"Wall cells: 0 to {n_wall_cells-1}\")\n",
    "print(f\"Top cap cells: {n_wall_cells} to {n_wall_cells + n_cap_cells - 1}\")\n",
    "print(f\"Bottom cap cells: {n_wall_cells + n_cap_cells} to {total_grid_cells-1}\")"
   ]
  },
  {
   "cell_type": "code",
   "execution_count": null,
   "metadata": {},
   "outputs": [],
   "source": [
    "# Visualize a specific grid element\n",
    "grid_index = 1  # Change this to any value from 0 to total_grid_cells-1\n",
    "\n",
    "visualize_grid_element(\n",
    "    config_file,\n",
    "    grid_index,\n",
    "    n_angular,\n",
    "    n_height,\n",
    "    n_cap,\n",
    "    max_detectors_per_cell\n",
    ")"
   ]
  },
  {
   "cell_type": "code",
   "execution_count": null,
   "metadata": {},
   "outputs": [],
   "source": []
  },
  {
   "cell_type": "code",
   "execution_count": null,
   "metadata": {},
   "outputs": [],
   "source": []
  }
 ],
 "metadata": {
  "kernelspec": {
   "display_name": "Python 3 (ipykernel)",
   "language": "python",
   "name": "python3"
  },
  "language_info": {
   "codemirror_mode": {
    "name": "ipython",
    "version": 3
   },
   "file_extension": ".py",
   "mimetype": "text/x-python",
   "name": "python",
   "nbconvert_exporter": "python",
   "pygments_lexer": "ipython3",
   "version": "3.11.11"
  }
 },
 "nbformat": 4,
 "nbformat_minor": 4
}
