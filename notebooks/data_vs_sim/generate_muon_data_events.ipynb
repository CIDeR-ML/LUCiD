{
 "cells": [
  {
   "cell_type": "code",
   "execution_count": null,
   "id": "102904b7-9cbe-4a12-9973-3eaa5d8d0931",
   "metadata": {},
   "outputs": [],
   "source": [
    "import torch\n",
    "device = torch.device('cuda' if torch.cuda.is_available() else 'cpu')"
   ]
  },
  {
   "cell_type": "code",
   "execution_count": null,
   "id": "94dde109-a907-4179-b647-676ae22601ba",
   "metadata": {},
   "outputs": [],
   "source": [
    "import sys\n",
    "sys.path.append('..')\n",
    "\n",
    "import jax\n",
    "import jax.numpy as jnp\n",
    "import numpy as np\n",
    "import os\n",
    "import random\n",
    "\n",
    "from tools.generate import read_photon_data_from_photonsim, generate_events_from_photonsim\n",
    "from tools.simulation import setup_event_simulator\n",
    "from tools.geometry import generate_detector\n",
    "from tools.visualization import create_detector_display, create_detector_comparison_display\n",
    "\n",
    "json_filename = '../config/HK_geom_config.json'\n",
    "\n",
    "detector = generate_detector(json_filename)\n",
    "Nphot = 5_000_000\n",
    "\n",
    "simulate_data_event = setup_event_simulator(json_filename, Nphot, K=5, is_data=True, temperature=0.)"
   ]
  },
  {
   "cell_type": "code",
   "execution_count": null,
   "id": "1612567b-63fe-4073-9705-5a70103408cd",
   "metadata": {},
   "outputs": [],
   "source": [
    "photonsim_file = \"../muons_50_with_photons.root\"\n",
    "\n",
    "detector_params = (\n",
    "    jnp.array(100),          # scatter_length\n",
    "    jnp.array(0.05),         # reflection_rate\n",
    "    jnp.array(100000.),      # absorption_length\n",
    "    jnp.array(0.001)         # gumbel_softmax_temp\n",
    ")"
   ]
  },
  {
   "cell_type": "code",
   "execution_count": null,
   "id": "32c0f859-abed-4790-82b6-76dbd8c208ef",
   "metadata": {},
   "outputs": [],
   "source": [
    "saved_files = generate_events_from_photonsim(\n",
    "    event_simulator=simulate_data_event,\n",
    "    root_file_path=photonsim_file,\n",
    "    detector_params=detector_params,\n",
    "    output_dir='output/',\n",
    "    n_events=5,\n",
    "    batch_size=5\n",
    ")"
   ]
  },
  {
   "cell_type": "code",
   "execution_count": null,
   "id": "6822c1a6-d7ab-4e46-8d73-e0e4c621bb0e",
   "metadata": {},
   "outputs": [],
   "source": [
    "filename = 'output/event_0.h5'"
   ]
  },
  {
   "cell_type": "code",
   "execution_count": null,
   "id": "5135d414-3329-4937-a508-b68fc391caab",
   "metadata": {},
   "outputs": [],
   "source": [
    "from tools.utils import read_event_file"
   ]
  },
  {
   "cell_type": "code",
   "execution_count": null,
   "id": "ca88a19d-1a33-4a42-945d-f12413ac5f8e",
   "metadata": {},
   "outputs": [],
   "source": [
    "read_event_file(filename)"
   ]
  },
  {
   "cell_type": "code",
   "execution_count": null,
   "id": "d1dde7e1-fa76-4a22-b57e-b7bfd1840733",
   "metadata": {},
   "outputs": [],
   "source": [
    "import h5py\n",
    "\n",
    "from tools.utils import extract_particle_properties\n",
    "\n",
    "with h5py.File(filename, 'r') as f:\n",
    "    loaded_charges_data = np.array(f['Q'])[0]\n",
    "    loaded_times_data = np.array(f['T'])[0]\n",
    "    loaded_mom_data   = np.array(f['P'])[0]\n",
    "    loaded_vtx_data   = np.array(f['V'])[0]\n",
    "    theta_data, phi_data, energy_data = extract_particle_properties(loaded_mom_data, pdg_code=13)\n",
    "\n",
    "#loaded_indices = list(range(len(loaded_charges)))\n",
    "#_ = print(np.shape(loaded_indices)), print(np.shape(loaded_charges)), print(np.shape(loaded_times)), print(np.shape(loaded_mom)), print(np.shape(loaded_vtx))"
   ]
  },
  {
   "cell_type": "code",
   "execution_count": null,
   "id": "a19e1c78-7734-42b8-a99a-f620d70e5474",
   "metadata": {},
   "outputs": [],
   "source": []
  },
  {
   "cell_type": "code",
   "execution_count": null,
   "id": "bfecf68f-b16f-486e-8cae-6bff41184c30",
   "metadata": {},
   "outputs": [],
   "source": []
  },
  {
   "cell_type": "code",
   "execution_count": null,
   "id": "e2ecb160-8143-4f27-9a6b-14640912c916",
   "metadata": {},
   "outputs": [],
   "source": [
    "detector_display = create_detector_display(json_filename, sparse=False)\n",
    "detector_display(loaded_charges_data, loaded_times_data, file_name='figures/simulated_HK_muon_Q.pdf', plot_time=False, log_scale=True)\n",
    "detector_display(loaded_charges_data, loaded_times_data, file_name='figures/simulated_HK_muon_T.pdf', plot_time=True, log_scale=True)"
   ]
  },
  {
   "cell_type": "code",
   "execution_count": null,
   "id": "d86f6ab9-a67a-4b99-84b9-5552b2dd352f",
   "metadata": {},
   "outputs": [],
   "source": [
    "key = jax.random.PRNGKey(71900)\n",
    "trk_params = (energy_data, jnp.array(loaded_vtx_data, dtype=jnp.float32), jnp.array([theta_data, phi_data], dtype=jnp.float32))\n",
    "simulate_event = setup_event_simulator(json_filename, Nphot, K=5, is_data=False, temperature=0.)"
   ]
  },
  {
   "cell_type": "code",
   "execution_count": null,
   "id": "3009dfbf-1ec3-4466-96a4-064a35494dd0",
   "metadata": {},
   "outputs": [],
   "source": [
    "from tools.utils import load_single_event, save_single_event, print_particle_params, print_detector_params#, full_to_sparse, sparse_to_full, print_particle_params, print_detector_params\n",
    "\n",
    "event_location = '../events/test_event_data.h5'\n",
    "\n",
    "single_event_data = jax.lax.stop_gradient(simulate_event(trk_params, detector_params, key))\n",
    "save_single_event(single_event_data, trk_params, detector_params, filename=event_location, calibration_mode=False)"
   ]
  },
  {
   "cell_type": "code",
   "execution_count": null,
   "id": "90a24589-75ec-4c97-aca2-a133c831aa75",
   "metadata": {},
   "outputs": [],
   "source": [
    "from tools.geometry import generate_detector\n",
    "import jax.numpy as jnp\n",
    "json_filename='../config/HK_geom_config.json'\n",
    "detector = generate_detector(json_filename)\n",
    "detector_points = jnp.array(detector.all_points)\n",
    "NUM_DETECTORS = len(detector_points)\n",
    "\n",
    "loaded_trk_params, loaded_detector_params, loaded_indices_pred, loaded_charges_pred, loaded_times_pred= load_single_event(event_location, NUM_DETECTORS, calibration_mode=False)\n",
    "print_particle_params(loaded_trk_params), print_detector_params(loaded_detector_params)\n",
    "\n",
    "detector_display = create_detector_display(json_filename)\n",
    "detector_display(loaded_indices_pred, loaded_charges_pred, loaded_times_pred, file_name='figures/predicted_HK_muon_Q.pdf', plot_time=False, log_scale=True)\n",
    "detector_display(loaded_indices_pred, loaded_charges_pred, loaded_times_pred, file_name='figures/predicted_HK_muon_T.pdf', plot_time=True, log_scale=True)"
   ]
  },
  {
   "cell_type": "code",
   "execution_count": null,
   "id": "72d8df94-5919-4169-aeb4-97981288329e",
   "metadata": {},
   "outputs": [],
   "source": [
    "# import matplotlib.pyplot as plt\n",
    "# _ = plt.hist(loaded_charges_data, bins=200, range=(1.1,30), alpha=0.5, label='data')\n",
    "# _ = plt.hist(loaded_charges_pred, bins=200, range=(1.1,30), alpha=0.5, label='pred')\n",
    "# plt.legend()"
   ]
  },
  {
   "cell_type": "code",
   "execution_count": null,
   "id": "cac25900-eb14-4d91-b6e1-5019afa6aae7",
   "metadata": {},
   "outputs": [],
   "source": []
  }
 ],
 "metadata": {
  "kernelspec": {
   "display_name": "Python 3",
   "language": "python",
   "name": "python3"
  },
  "language_info": {
   "codemirror_mode": {
    "name": "ipython",
    "version": 3
   },
   "file_extension": ".py",
   "mimetype": "text/x-python",
   "name": "python",
   "nbconvert_exporter": "python",
   "pygments_lexer": "ipython3",
   "version": "3.10.12"
  }
 },
 "nbformat": 4,
 "nbformat_minor": 5
}
