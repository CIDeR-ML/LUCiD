{
 "cells": [
  {
   "cell_type": "code",
   "execution_count": null,
   "id": "75eb79d1-9814-4a95-8eb6-edd71b34f1fb",
   "metadata": {},
   "outputs": [],
   "source": [
    "from datetime import time\n",
    "\n",
    "import torch\n",
    "device = torch.device('cuda' if torch.cuda.is_available() else 'cpu')\n",
    "\n",
    "import sys\n",
    "sys.path.append('..')"
   ]
  },
  {
   "cell_type": "code",
   "execution_count": null,
   "id": "f1e80dc0-6dd2-49a2-996f-1c650dd46444",
   "metadata": {},
   "outputs": [],
   "source": [
    "\n",
    "from tools.optimization import create_multi_objective_optimizer, filter_inf_results, plot_simple_multi_event_convergence\n",
    "from tools.optimization import run_multi_event_optimization, plot_single_event_comparison, plot_multi_event_convergence, plot_single_event_convergence"
   ]
  },
  {
   "cell_type": "code",
   "execution_count": null,
   "id": "b4ae901d-0e23-4fc7-850a-8b0351f65b42",
   "metadata": {},
   "outputs": [],
   "source": [
    "from tools.geometry import generate_detector\n",
    "import jax.numpy as jnp\n",
    "json_filename='../config/IWCD_geom_config.json'\n",
    "detector = generate_detector(json_filename)\n",
    "detector_points = jnp.array(detector.all_points)"
   ]
  },
  {
   "cell_type": "code",
   "execution_count": null,
   "id": "ae13624d-d1f3-4b8d-8bc6-1863ee543ff8",
   "metadata": {},
   "outputs": [],
   "source": [
    "import pickle\n",
    "from pathlib import Path\n",
    "\n",
    "# Configuration flag\n",
    "start_fresh = True\n",
    "\n",
    "# Define output path\n",
    "output_dir = Path('output/optimization/')\n",
    "output_file = output_dir / 'optimization_results.pkl'\n",
    "\n",
    "# Check if we should run the optimization\n",
    "should_run = start_fresh or not output_file.exists()\n",
    "\n",
    "if should_run:\n",
    "    print(\"Running optimization...\")\n",
    "    \n",
    "    results = run_multi_event_optimization(\n",
    "        N_events=50,\n",
    "        Nphot=100_000,\n",
    "        json_filename='../config/IWCD_geom_config.json',\n",
    "        K=2,\n",
    "        loss_function='multi_objective',\n",
    "        energy_lr=2.0,     \n",
    "        spatial_lr=0.1,\n",
    "        position_scale=2.0,\n",
    "        lambda_time=0.0,\n",
    "        n_iterations=400,\n",
    "        patience=250,\n",
    "        base_seed=150,\n",
    "        verbose=False,\n",
    "        initial_guess_method='random' # the other option is 'grid_scan'\n",
    "    )\n",
    "    \n",
    "    # Create output directory if it doesn't exist\n",
    "    output_dir.mkdir(parents=True, exist_ok=True)\n",
    "    \n",
    "    # Save to file\n",
    "    with open(output_file, 'wb') as f:\n",
    "        pickle.dump(results, f)\n",
    "        \n",
    "    print(f\"Results saved to {output_file}\")\n",
    "    \n",
    "else:\n",
    "    print(f\"Optimization results already exist at {output_file}\")\n",
    "    print(\"Set start_fresh=True to run optimization again\")\n",
    "    \n",
    "    # Optionally load existing results\n",
    "    with open(output_file, 'rb') as f:\n",
    "        results = pickle.load(f)\n",
    "    print(\"Loaded existing results\")"
   ]
  },
  {
   "cell_type": "code",
   "execution_count": null,
   "id": "331eb9e0-e94e-4c1c-b013-839bb93a43be",
   "metadata": {},
   "outputs": [],
   "source": [
    "with open('output/optimization/optimization_results.pkl', 'rb') as f:\n",
    "    loaded_results = pickle.load(f)\n",
    "new_results = filter_inf_results(loaded_results)"
   ]
  },
  {
   "cell_type": "code",
   "execution_count": null,
   "id": "c1ac607a-02f8-48da-b74b-e64a6f20b122",
   "metadata": {},
   "outputs": [],
   "source": [
    "import matplotlib.pyplot as plt\n",
    "\n",
    "plt.rcParams['text.usetex'] = False\n",
    "plt.rcParams['font.family'] = 'serif'\n",
    "plt.rcParams['font.size'] = 8"
   ]
  },
  {
   "cell_type": "code",
   "execution_count": null,
   "id": "768b86aa-83d0-4531-859d-2c8d79a75026",
   "metadata": {},
   "outputs": [],
   "source": [
    "output_dir = Path('figures/')\n",
    "output_dir.mkdir(parents=True, exist_ok=True)\n",
    "_ = plot_simple_multi_event_convergence(new_results, show_individual=True, show_statistics=True, show_histograms=True, figsize=(8,5), save_path='figures/multi_evt_opt_summary_tmp.pdf')"
   ]
  },
  {
   "cell_type": "code",
   "execution_count": null,
   "id": "b921133e-16e6-416b-9d77-a1cad1212187",
   "metadata": {},
   "outputs": [],
   "source": [
    "import numpy as np\n",
    "from tools.optimization import plot_simple_event_convergence\n",
    "\n",
    "n_events = np.shape(new_results['loss_histories'])[0]\n",
    "for i in range(n_events):\n",
    "    plot_simple_event_convergence(i, new_results, save_path='figures/opt_history_evt_'+str(i)+'.pdf', figsize=(7, 2))"
   ]
  }
 ],
 "metadata": {
  "kernelspec": {
   "display_name": "Python 3",
   "language": "python",
   "name": "python3"
  },
  "language_info": {
   "codemirror_mode": {
    "name": "ipython",
    "version": 3
   },
   "file_extension": ".py",
   "mimetype": "text/x-python",
   "name": "python",
   "nbconvert_exporter": "python",
   "pygments_lexer": "ipython3",
   "version": "3.10.12"
  }
 },
 "nbformat": 4,
 "nbformat_minor": 5
}
