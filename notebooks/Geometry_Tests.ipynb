{
 "cells": [
  {
   "cell_type": "code",
   "execution_count": 1,
   "id": "9f778ba6-7848-4e3b-a249-03b320bb9699",
   "metadata": {},
   "outputs": [],
   "source": [
    "from datetime import time\n",
    "\n",
    "import torch\n",
    "device = torch.device('cuda' if torch.cuda.is_available() else 'cpu')\n",
    "\n",
    "import sys\n",
    "sys.path.append('..')"
   ]
  },
  {
   "cell_type": "code",
   "execution_count": 2,
   "id": "a7c4c1cb-1ea6-4726-b402-4c9db94d47ea",
   "metadata": {},
   "outputs": [],
   "source": [
    "from tools.geometry import generate_detector\n",
    "from tools.utils import generate_random_params\n",
    "from tools.utils import load_single_event, save_single_event\n",
    "import jax\n",
    "import jax.numpy as jnp\n",
    "from tools.simulation import setup_event_simulator\n",
    "\n",
    "# Generate and save a single event\n",
    "key = jax.random.PRNGKey(6)\n",
    "\n",
    "detector_params = (\n",
    "    jnp.array(50),            # scattering_length\n",
    "    jnp.array(0.00),         # reflection_rate\n",
    "    jnp.array(999.),         # absorption_length\n",
    "    jnp.array(0.001)         # gumbel_softmax_temp\n",
    ")\n",
    "\n",
    "\n",
    "track_params = (\n",
    "    jnp.array(800.0, dtype=jnp.float32),              # energy \n",
    "    jnp.array([0.0, 0.0, 0.0], dtype=jnp.float32),    # position\n",
    "    jnp.array([jnp.pi/3, jnp.pi/4], dtype=jnp.float32)  # angles (theta, phi)\n",
    ")"
   ]
  },
  {
   "cell_type": "code",
   "execution_count": 3,
   "id": "7fba8e46-9fdc-4186-b52a-079f81a2e34f",
   "metadata": {},
   "outputs": [],
   "source": [
    "detector_names = ['EOS', 'WCTE', 'IWCD', 'SK', 'HK', 'JUNO', 'TAO']"
   ]
  },
  {
   "cell_type": "code",
   "execution_count": null,
   "id": "c2737267-5a62-49cd-a7a4-051821c00ca6",
   "metadata": {},
   "outputs": [],
   "source": [
    "generate_event = True\n",
    "\n",
    "if generate_event:\n",
    "    for name in detector_names:\n",
    "        json_filename = f'../config/{name}_geom_config.json'\n",
    "        detector = generate_detector(json_filename)\n",
    "        detector_points = jnp.array(detector.all_points)\n",
    "        Nphot = 5_000_000\n",
    "        temperature = 0.0\n",
    "        generate_event = False\n",
    "        deector_type='Sphere' if name == 'TAO' or name == 'JUNO' else 'Cylinder'    \n",
    "        simulator = setup_event_simulator(json_filename, Nphot, temperature=temperature, K=2, is_data=False, is_calibration=False, detector_type=deector_type, max_detectors_per_cell=10)\n",
    "        single_event = jax.lax.stop_gradient(simulator(track_params, detector_params, key))\n",
    "\n",
    "\n",
    "        source_params = (\n",
    "            jnp.array([0.0, 0.0, 0.0], dtype=jnp.float32),\n",
    "            jnp.array(1.0, dtype=jnp.float32)\n",
    "        )\n",
    "        \n",
    "        # simulator = setup_event_simulator(json_filename, Nphot, temperature=temperature, K=1, is_data=False, is_calibration=True, detector_type=deector_type, max_detectors_per_cell=10)\n",
    "        # single_event = jax.lax.stop_gradient(simulator(source_params, detector_params, key))\n",
    "        \n",
    "        save_single_event(single_event, track_params, detector_params, filename=f'../events/{name}_event_data.h5', calibration_mode=False)"
   ]
  },
  {
   "cell_type": "code",
   "execution_count": null,
   "id": "2740c9c4-7904-4dcc-aabc-de3e4d9a7285",
   "metadata": {},
   "outputs": [],
   "source": [
    "def visualize_3D_event_for_detector(name, colorscale='viridis', surface_color='gray'):\n",
    "    _, _, indices, charges, times = load_single_event(f'../events/{name}_event_data.h5', None, calibration_mode=False)\n",
    "    json_filename = f'../config/{name}_geom_config.json'\n",
    "    detector = generate_detector(json_filename)\n",
    "    figname = f'figures/{name}_3D_evt_display.pdf'\n",
    "    detector.visualize_event_data_plotly_discs(indices, charges, times, show_all_detectors=True, log_scale=True, show_colorbar=False, dark_theme=False, plot_time=False, colorscale=colorscale, surface_color=surface_color, figname=figname)"
   ]
  },
  {
   "cell_type": "code",
   "execution_count": null,
   "id": "74c590a4-ed2b-42f7-9e7e-1211d481c594",
   "metadata": {},
   "outputs": [],
   "source": [
    "def check_missing_sensors(name):\n",
    "    _, _, indices, charges, times = load_single_event(f'../events/{name}_event_data.h5', None, calibration_mode=False)\n",
    "    json_filename = f'../config/{name}_geom_config.json'\n",
    "    detector = generate_detector(json_filename)\n",
    "    if len(detector.all_points) == len(indices):\n",
    "        print('Success!')\n",
    "    else:\n",
    "        print('Problems?')\n",
    "        print(len(detector.all_points), len(indices))\n",
    "\n",
    "for name in detector_names:\n",
    "    check_missing_sensors(name)"
   ]
  },
  {
   "cell_type": "code",
   "execution_count": null,
   "id": "21b0ea25-5d19-45b7-a18d-5416112b300c",
   "metadata": {},
   "outputs": [],
   "source": [
    "cmap = 'inferno'\n",
    "visualize_3D_event_for_detector('SK', colorscale=cmap, surface_color='dimgray')\n",
    "visualize_3D_event_for_detector('JUNO', colorscale=cmap, surface_color='dimgray')\n",
    "visualize_3D_event_for_detector('IWCD', colorscale=cmap, surface_color='dimgray')\n",
    "visualize_3D_event_for_detector('TAO', colorscale=cmap, surface_color='dimgray')"
   ]
  },
  {
   "cell_type": "code",
   "execution_count": null,
   "id": "fc488fe4-9327-45ad-b853-aacb5c6738f5",
   "metadata": {},
   "outputs": [],
   "source": [
    "import matplotlib.pyplot as plt\n",
    "\n",
    "name = 'SK'\n",
    "json_filename = f'../config/{name}_geom_config.json'\n",
    "detector = generate_detector(json_filename)\n",
    "\n",
    "detector = generate_detector(json_filename)\n",
    "detector_points = jnp.array(detector.all_points)\n",
    "photosensor_radius = detector.S_radius\n",
    "sphere_radius = detector.r\n",
    "\n",
    "fig = plt.figure()\n",
    "ax = fig.add_subplot(projection='3d')\n",
    "\n",
    "ax.scatter(detector.all_points[:,0],detector.all_points[:,1],detector.all_points[:,2], s=0.05)"
   ]
  }
 ],
 "metadata": {
  "kernelspec": {
   "display_name": "Python 3 (ipykernel)",
   "language": "python",
   "name": "python3"
  },
  "language_info": {
   "codemirror_mode": {
    "name": "ipython",
    "version": 3
   },
   "file_extension": ".py",
   "mimetype": "text/x-python",
   "name": "python",
   "nbconvert_exporter": "python",
   "pygments_lexer": "ipython3",
   "version": "3.10.12"
  }
 },
 "nbformat": 4,
 "nbformat_minor": 5
}
