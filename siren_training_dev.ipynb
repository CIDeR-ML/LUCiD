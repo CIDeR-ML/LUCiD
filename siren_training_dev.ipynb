{
 "cells": [
  {
   "cell_type": "code",
   "execution_count": null,
   "id": "b2407196-b068-49e8-80b2-869e71a4b296",
   "metadata": {},
   "outputs": [],
   "source": [
    "  # pip install h5py jax flax optax matplotlib numpy\n",
    "\n",
    "  # Then run:\n",
    "  # cd /sdf/home/c/cjesus/diffCherenkov\n",
    "  # python3 scripts/train_photonsim_h5.py \\\n",
    "  #     --data-path /sdf/home/c/cjesus/PhotonSim/output/photon_lookup_table.h5 \\\n",
    "  #     --output-dir output/photonsim_siren_test \\\n",
    "  #     --num-steps 10 \\\n",
    "  #     --hidden-features 128 \\\n",
    "  #     --hidden-layers 2 \\\n",
    "  #     --batch-size 1024"
   ]
  },
  {
   "cell_type": "code",
   "execution_count": 3,
   "id": "c0dc4a70-4676-47ad-b19d-137e200aafd6",
   "metadata": {},
   "outputs": [
    {
     "name": "stdout",
     "output_type": "stream",
     "text": [
      "analyze_trained_siren.py  monitor_training.py  train_photonsim_h5.py\n"
     ]
    }
   ],
   "source": [
    "! ls /sdf/home/c/cjesus/diffCherenkov/scripts"
   ]
  },
  {
   "cell_type": "code",
   "execution_count": 5,
   "id": "10b53aff-62d8-451d-9d5d-7eb8fdf98d87",
   "metadata": {},
   "outputs": [
    {
     "name": "stdout",
     "output_type": "stream",
     "text": [
      "INFO:__main__:Loading PhotonSim HDF5 lookup table from /sdf/home/c/cjesus/PhotonSim/output/photon_lookup_table.h5\n",
      "INFO:photonsim_h5_dataset:Loading PhotonSim HDF5 lookup table from /sdf/home/c/cjesus/PhotonSim/output/photon_lookup_table.h5\n",
      "INFO:photonsim_h5_dataset:Filtering: 5,659,770 / 22,750,000 samples (24.9%)\n",
      "INFO:photonsim_h5_dataset:Loaded H5 lookup table: 5,659,770 valid samples\n",
      "INFO:photonsim_h5_dataset:Split: 5093793 train, 565977 validation\n",
      "INFO:photonsim_h5_dataset:Dataset initialized with 5093793 train, 565977 validation samples\n",
      "INFO:__main__:Dataset statistics:\n",
      "INFO:__main__:  n_samples: 5659770\n",
      "INFO:__main__:  n_train: 5093793\n",
      "INFO:__main__:  n_validation: 565977\n",
      "INFO:__main__:  batch_size: 1024\n",
      "INFO:__main__:  input_shape: (5659770, 3)\n",
      "INFO:__main__:  output_shape: (5659770,)\n",
      "INFO:__main__:  normalize_inputs: True\n",
      "INFO:__main__:  normalize_outputs: False\n",
      "INFO:__main__:  log_transform_output: True\n",
      "INFO:__main__:  density_units: photons/(event·sr·mm)\n",
      "INFO:__main__:  val_split: 0.1\n",
      "INFO:__main__:Input ranges:\n",
      "INFO:__main__:  energy: (np.int64(100), np.int64(1000))\n",
      "INFO:__main__:  angle: (np.float64(0.0031415926535897933), np.float64(3.1384510609362035))\n",
      "INFO:__main__:  distance: (np.float64(10.0), np.float64(9990.0))\n",
      "INFO:__main__:Output statistics:\n",
      "INFO:__main__:  min: 0.002533\n",
      "INFO:__main__:  max: 987.115417\n",
      "INFO:__main__:  mean: 5.442721\n",
      "INFO:__main__:  std: 26.121292\n",
      "INFO:__main__:Initializing SIREN trainer...\n",
      "INFO:2025-06-16 09:40:46,230:jax._src.xla_bridge:925: Unable to initialize backend 'rocm': module 'jaxlib.xla_extension' has no attribute 'GpuAllocatorConfig'\n",
      "INFO:jax._src.xla_bridge:Unable to initialize backend 'rocm': module 'jaxlib.xla_extension' has no attribute 'GpuAllocatorConfig'\n",
      "INFO:2025-06-16 09:40:46,233:jax._src.xla_bridge:925: Unable to initialize backend 'tpu': INTERNAL: Failed to open libtpu.so: libtpu.so: cannot open shared object file: No such file or directory\n",
      "INFO:jax._src.xla_bridge:Unable to initialize backend 'tpu': INTERNAL: Failed to open libtpu.so: libtpu.so: cannot open shared object file: No such file or directory\n",
      "INFO:train_photonsim_siren:JAX devices available: 1\n",
      "INFO:train_photonsim_siren:  Device 0: NVIDIA A100-SXM4-40GB - cuda:0\n",
      "INFO:train_photonsim_siren:Default device: NVIDIA A100-SXM4-40GB - cuda:0\n",
      "Traceback (most recent call last):\n",
      "  File \"/sdf/home/c/cjesus/diffCherenkov/scripts/train_photonsim_h5.py\", line 112, in <module>\n",
      "    main()\n",
      "  File \"/sdf/home/c/cjesus/diffCherenkov/scripts/train_photonsim_h5.py\", line 83, in main\n",
      "    trainer = PhotonSimSIRENTrainer(\n",
      "  File \"/sdf/home/c/cjesus/diffCherenkov/tools/train_photonsim_siren.py\", line 93, in __init__\n",
      "    self.device = print_device_info()\n",
      "  File \"/sdf/home/c/cjesus/diffCherenkov/tools/train_photonsim_siren.py\", line 42, in print_device_info\n",
      "    logger.info(f\"Test array device: {test_array.device()}\")\n",
      "TypeError: 'Device' object is not callable\n"
     ]
    }
   ],
   "source": [
    "! python scripts/train_photonsim_h5.py \\\n",
    "      --data-path /sdf/home/c/cjesus/PhotonSim/output/photon_lookup_table.h5 \\\n",
    "      --output-dir output/photonsim_siren_test \\\n",
    "      --num-steps 10 \\\n",
    "      --hidden-features 128 \\\n",
    "      --hidden-layers 2 \\\n",
    "      --batch-size 1024"
   ]
  },
  {
   "cell_type": "code",
   "execution_count": null,
   "id": "493b8968-5b80-474b-bc10-3543d4667c5d",
   "metadata": {},
   "outputs": [],
   "source": []
  }
 ],
 "metadata": {
  "kernelspec": {
   "display_name": "Python 3",
   "language": "python",
   "name": "python3"
  },
  "language_info": {
   "codemirror_mode": {
    "name": "ipython",
    "version": 3
   },
   "file_extension": ".py",
   "mimetype": "text/x-python",
   "name": "python",
   "nbconvert_exporter": "python",
   "pygments_lexer": "ipython3",
   "version": "3.10.12"
  }
 },
 "nbformat": 4,
 "nbformat_minor": 5
}
