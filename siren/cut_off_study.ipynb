{
 "cells": [
  {
   "cell_type": "code",
   "execution_count": 1,
   "id": "9293b8f4-bd17-4ae5-9220-28fe59404886",
   "metadata": {},
   "outputs": [],
   "source": [
    "import sys\n",
    "sys.path.append('..')\n",
    "\n",
    "from tools.siren import *\n",
    "from tools.table import *\n",
    "\n",
    "from functools import partial\n",
    "\n",
    "from scipy import interpolate\n",
    "\n",
    "import matplotlib.pyplot as plt\n",
    "from matplotlib.colors import LogNorm"
   ]
  },
  {
   "cell_type": "code",
   "execution_count": 2,
   "id": "dbf7d786-83a8-4634-86fc-a2a1d5da8a19",
   "metadata": {},
   "outputs": [],
   "source": [
    "table = Table('cprof_mu_train_10000ev.h5')\n",
    "\n",
    "ene_bins = table.normalize(0, table.binning[0])\n",
    "# cos_bins = table.normalize(1, np.linspace(min(table.binning[1]), max(table.binning[1]), 200))\n",
    "# trk_bins = table.normalize(2, np.linspace(min(table.binning[2]), max(table.binning[2]), 200))\n",
    "\n",
    "cos_bins = table.normalize(1, np.linspace(0.3, max(table.binning[1]), 50))\n",
    "trk_bins = table.normalize(2, np.linspace(min(table.binning[2]), 400, 50))\n",
    "\n",
    "cos_trk_mesh = np.array([[x,y] for x in cos_bins for y in trk_bins])\n",
    "linear_interpolator = interpolate.interp1d(table.binning[0], ene_bins, kind='linear')\n",
    "grid_shape = (table.binning[1].shape[0]*table.binning[2].shape[0],3)\n",
    "\n",
    "siren_light_profile, siren_params = load_siren_jax('siren_cprof_mu.pkl')"
   ]
  },
  {
   "cell_type": "markdown",
   "id": "e5c4c3cf-a9fc-4b27-be38-5790a3404b6d",
   "metadata": {},
   "source": [
    "### Let's look for the scale of 'random fluctuations'"
   ]
  },
  {
   "cell_type": "code",
   "execution_count": 3,
   "id": "93832745-035e-4aa0-9ba6-4a4d113d3631",
   "metadata": {},
   "outputs": [
    {
     "data": {
      "image/png": "[encoded data removed]",
      "text/plain": [
       "<Figure size 300x300 with 1 Axes>"
      ]
     },
     "metadata": {},
     "output_type": "display_data"
    }
   ],
   "source": [
    "energy = 500 # MeV\n",
    "evaluation_grid = jnp.array(np.array([[linear_interpolator(energy), x, y] for x in cos_bins for y in trk_bins]))\n",
    "photon_weights, _ = siren_light_profile.apply(siren_params, evaluation_grid)\n",
    "\n",
    "reco_value = np.array(photon_weights).reshape(len(cos_bins), len(trk_bins))\n",
    "fig, axes = plt.subplots(1,1, figsize=(3,3))\n",
    "fig.patch.set_facecolor('white')\n",
    "im0 = axes.imshow(reco_value, norm=LogNorm(vmin=0.015))\n",
    "#fig.colorbar(im0, ax=axes)\n",
    "fig.tight_layout()\n",
    "plt.gca().set_xlabel('x-bin')\n",
    "plt.gca().set_ylabel('y-bin')\n",
    "plt.show()"
   ]
  },
  {
   "cell_type": "code",
   "execution_count": 4,
   "id": "835423ab-14ac-4f39-a911-c47177353e82",
   "metadata": {},
   "outputs": [
    {
     "data": {
      "image/png": "[encoded data removed]",
      "text/plain": [
       "<Figure size 900x300 with 3 Axes>"
      ]
     },
     "metadata": {},
     "output_type": "display_data"
    }
   ],
   "source": [
    "fig, axes = plt.subplots(1,3, figsize=(9,3))\n",
    "\n",
    "energies = [300, 500, 800]\n",
    "\n",
    "for i, energy in enumerate(energies):\n",
    "\n",
    "    # since we are slicing SIREN from 3D to 2D but the slice change dynamically this needs to remain inide this function\n",
    "    evaluation_grid = jnp.array(np.array([[linear_interpolator(energy), x, y] for x in cos_bins for y in trk_bins]))\n",
    "    photon_weights, _ = siren_light_profile.apply(siren_params, evaluation_grid)\n",
    "    reco_value = np.array(photon_weights).reshape(len(cos_bins), len(trk_bins))\n",
    "    fig.patch.set_facecolor('white')\n",
    "    im0 = axes[i].imshow(reco_value, norm=LogNorm(vmin=0.012))\n",
    "    axes[i].set_xlabel('x-bin')\n",
    "    axes[i].set_ylabel('y-bin')\n",
    "    \n",
    "#fig.colorbar(im0, ax=axes)\n",
    "fig.tight_layout()\n",
    "# plt.gca().set_xlabel('x-bin')\n",
    "# plt.gca().set_ylabel('y-bin')\n",
    "plt.show()"
   ]
  },
  {
   "cell_type": "markdown",
   "id": "bfbc228d-404c-48ea-ae4c-8d053136b818",
   "metadata": {},
   "source": [
    "### Study relation of number of points above cut off and a Nphot for a given binning choice"
   ]
  },
  {
   "cell_type": "code",
   "execution_count": 5,
   "id": "f5045b40-8302-42c1-93f5-4ce5c7e8110b",
   "metadata": {},
   "outputs": [],
   "source": [
    "def normalize(v, epsilon=1e-8):\n",
    "    return v / (jnp.linalg.norm(v) + epsilon)\n",
    "\n",
    "def generate_orthonormal_basis(v):\n",
    "    v = normalize(v)\n",
    "    not_v = jnp.array([1.0, 0.0, 0.0])\n",
    "    cond = jnp.abs(jnp.dot(v, not_v)) > 0.9\n",
    "    not_v = jnp.where(cond, jnp.array([0.0, 1.0, 0.0]), not_v)\n",
    "    u = normalize(jnp.cross(v, not_v))\n",
    "    w = jnp.cross(v, u)\n",
    "    return jnp.stack([u, w, v], axis=-1)\n",
    "\n",
    "@partial(jax.jit, static_argnums=(3,))\n",
    "def generate_random_cone_vectors(R, theta, key, num_vectors):\n",
    "    R = normalize(R)\n",
    "    theta = jnp.clip(theta, 1e-6, jnp.pi - 1e-6)\n",
    "\n",
    "    key1, key2 = random.split(key)\n",
    "    phi = random.uniform(key1, (num_vectors,), minval=0, maxval=2 * jnp.pi)\n",
    "\n",
    "    sin_theta = jnp.sin(theta)\n",
    "    cos_theta = jnp.cos(theta)\n",
    "    x = jnp.cos(phi) * sin_theta\n",
    "    y = jnp.sin(phi) * sin_theta\n",
    "    z = cos_theta * jnp.ones_like(x)\n",
    "\n",
    "    basis = generate_orthonormal_basis(R)\n",
    "    vectors = jnp.column_stack((x, y, z))\n",
    "    rotated_vectors = jnp.einsum('ij,kj->ki', basis, vectors)\n",
    "\n",
    "    return rotated_vectors\n",
    "\n",
    "# def setup_interpolation(table):\n",
    "#     ene_bins = table.normalize(0, table.binning[0])\n",
    "#     cos_bins = table.normalize(1, np.linspace(0.3, max(table.binning[1]), 200))\n",
    "#     trk_bins = table.normalize(2, np.linspace(min(table.binning[2]), 400, 200))\n",
    "#     cos_trk_mesh = np.array([[x,y] for x in cos_bins for y in trk_bins])\n",
    "#     x_data = table.binning[0]\n",
    "#     y_data = ene_bins\n",
    "#     grid_shape = (np.shape(cos_bins)[0]*np.shape(trk_bins)[0],3)\n",
    "#     return cos_bins, trk_bins, cos_trk_mesh, (x_data, y_data), grid_shape\n",
    "\n",
    "@jax.jit\n",
    "def jax_linear_interp(x_data, y_data, x):\n",
    "    \"\"\"\n",
    "    Simple linear interpolation implementation using JAX\n",
    "    \"\"\"\n",
    "    # Find the index of the closest point below x for each point\n",
    "    idx = jnp.searchsorted(x_data, x, side='right') - 1\n",
    "    # Clip index to valid range\n",
    "    idx = jnp.clip(idx, 0, len(x_data)-2)\n",
    "    \n",
    "    # Get x and y values for interpolation\n",
    "    x0 = x_data[idx]\n",
    "    x1 = x_data[idx + 1]\n",
    "    y0 = y_data[idx]\n",
    "    y1 = y_data[idx + 1]\n",
    "    \n",
    "    # Linear interpolation\n",
    "    slope = (y1 - y0) / (x1 - x0)\n",
    "    return y0 + slope * (x - x0)\n",
    "\n",
    "@partial(jax.jit, static_argnums=(3))\n",
    "def new_differentiable_get_rays(track_origin, track_direction, energy, Nphot, table_data, model_params, key):\n",
    "    key, subkey = random.split(key)\n",
    "    cos_bins, trk_bins, cos_trk_mesh, (x_data, y_data), grid_shape = table_data\n",
    "    \n",
    "    # Create the evaluation grid using JAX operations - using efficient meshgrid\n",
    "    energy_interp = jax_linear_interp(x_data, y_data, energy)\n",
    "    cos_mesh, trk_mesh = jnp.meshgrid(cos_bins, trk_bins, indexing='ij')  # Note the indexing='ij'\n",
    "    evaluation_grid = jnp.stack([\n",
    "        jnp.full_like(cos_mesh, energy_interp).ravel(),\n",
    "        cos_mesh.ravel(),  # Maintain correct order: cos first\n",
    "        trk_mesh.ravel(),  # trk second\n",
    "    ], axis=1)\n",
    "    \n",
    "    # Initialize SIREN model\n",
    "    model = SIREN(\n",
    "        hidden_features=256,\n",
    "        hidden_layers=3,\n",
    "        out_features=1,\n",
    "        outermost_linear=True\n",
    "    )\n",
    "    \n",
    "    # Apply SIREN model\n",
    "    photon_weights, _ = model.apply(model_params, evaluation_grid)\n",
    "    # Get indices of top Nphot weights (using JAX operations)\n",
    "    top_indices = jnp.argsort(-photon_weights.squeeze())[:Nphot]\n",
    "    \n",
    "    # Get the cos and trk values for these indices\n",
    "    cos_trk_mesh = jnp.array(cos_trk_mesh)  # Ensure it's a JAX array\n",
    "    selected_cos_trk = cos_trk_mesh[top_indices]\n",
    "    \n",
    "    # Split into separate cos and trk arrays\n",
    "    selected_cos = selected_cos_trk[:, 0]\n",
    "    selected_trk = selected_cos_trk[:, 1]\n",
    "    photon_thetas = jnp.arccos(selected_cos)\n",
    "    \n",
    "    # Generate ray vectors and origins\n",
    "    subkey, subkey2 = random.split(subkey)\n",
    "    ray_vectors = generate_random_cone_vectors(track_direction, photon_thetas, subkey, Nphot)\n",
    "    \n",
    "    # Convert ranges to meters and compute ray origins\n",
    "    ranges = (selected_trk * 300 + 300) / 100\n",
    "    ray_origins = jnp.ones((Nphot, 3)) * track_origin[None, :] + ranges[:, None] * track_direction[None, :]\n",
    "    \n",
    "    return ray_vectors, ray_origins, ranges, photon_weights[top_indices], photon_thetas"
   ]
  },
  {
   "cell_type": "code",
   "execution_count": 9,
   "id": "a1ce8deb-fc46-4757-900e-913512ec4e95",
   "metadata": {},
   "outputs": [],
   "source": [
    "#key = random.PRNGKey(1)\n",
    "from tools.simulation import create_siren_grid\n",
    "\n",
    "table_data = create_siren_grid(table)\n",
    "siren_model, model_params = load_siren_jax('siren_cprof_mu.pkl')\n",
    "origin = jnp.array([0.5, 0.0, -0.5])\n",
    "direction = jnp.array([1.0, -1.0, 0.2])\n",
    "\n",
    "valid_N = []\n",
    "energies = [300,400,500,600,700,800,900]\n",
    "for energy in energies:\n",
    "    Nphot = 100000\n",
    "    key = random.PRNGKey(1)\n",
    "    ray_vectors, ray_origins, ranges, photon_weights, photon_thetas = new_differentiable_get_rays(origin, direction, energy, Nphot, table_data, model_params, key)\n",
    "    valid_N.append(np.sum(photon_weights>0.008))"
   ]
  },
  {
   "cell_type": "code",
   "execution_count": 10,
   "id": "6305d415-550b-49c3-90f4-99117604c03a",
   "metadata": {},
   "outputs": [
    {
     "data": {
      "text/plain": [
       "<matplotlib.legend.Legend at 0x2b5efde70>"
      ]
     },
     "execution_count": 10,
     "metadata": {},
     "output_type": "execute_result"
    },
    {
     "data": {
      "image/png": "[encoded data removed]",
      "text/plain": [
       "<Figure size 300x300 with 1 Axes>"
      ]
     },
     "metadata": {},
     "output_type": "display_data"
    }
   ],
   "source": [
    "import numpy as np\n",
    "\n",
    "# Create the linear fit\n",
    "fig, axes = plt.subplots(1,1, figsize=(3,3))\n",
    "coefficients = np.polyfit(energies, valid_N, 1)  # 1 indicates linear fit\n",
    "fit_line = np.poly1d(coefficients)\n",
    "\n",
    "plt.plot(energies, fit_line(energies), '-k', label=f'Linear fit')\n",
    "plt.scatter(energies, valid_N, color='r', zorder=10)\n",
    "plt.legend()"
   ]
  },
  {
   "cell_type": "code",
   "execution_count": 11,
   "id": "f54c6839-094c-49de-8624-ecfade06d374",
   "metadata": {},
   "outputs": [
    {
     "data": {
      "text/plain": [
       "array([    94.14714286, -17750.        ])"
      ]
     },
     "execution_count": 11,
     "metadata": {},
     "output_type": "execute_result"
    }
   ],
   "source": [
    "coefficients"
   ]
  },
  {
   "cell_type": "code",
   "execution_count": null,
   "id": "ac863428-6980-47ef-b082-8e8ecce1026d",
   "metadata": {},
   "outputs": [],
   "source": []
  }
 ],
 "metadata": {
  "kernelspec": {
   "display_name": "Python 3 (ipykernel)",
   "language": "python",
   "name": "python3"
  },
  "language_info": {
   "codemirror_mode": {
    "name": "ipython",
    "version": 3
   },
   "file_extension": ".py",
   "mimetype": "text/x-python",
   "name": "python",
   "nbconvert_exporter": "python",
   "pygments_lexer": "ipython3",
   "version": "3.10.13"
  }
 },
 "nbformat": 4,
 "nbformat_minor": 5
}
