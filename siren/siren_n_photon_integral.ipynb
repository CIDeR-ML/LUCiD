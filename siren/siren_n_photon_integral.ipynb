{
 "cells": [
  {
   "cell_type": "code",
   "execution_count": 1,
   "id": "9a925c2d-b5be-4cb2-b472-8464966ce949",
   "metadata": {},
   "outputs": [],
   "source": [
    "import sys\n",
    "sys.path.append('..')\n",
    "\n",
    "from tools.siren import *\n",
    "from tools.table import *\n",
    "\n",
    "from functools import partial\n",
    "\n",
    "from scipy import interpolate\n",
    "\n",
    "import matplotlib.pyplot as plt\n",
    "from matplotlib.colors import LogNorm"
   ]
  },
  {
   "cell_type": "code",
   "execution_count": 2,
   "id": "679cbd59-11f1-4ef8-893f-472d24448d86",
   "metadata": {},
   "outputs": [],
   "source": [
    "table = Table('cprof_mu_train_10000ev.h5')\n",
    "\n",
    "ene_bins = table.normalize(0, table.binning[0])\n",
    "cos_bins = table.normalize(1, np.linspace(min(table.binning[1]), max(table.binning[1]), 200))\n",
    "trk_bins = table.normalize(2, np.linspace(min(table.binning[2]), max(table.binning[2]), 200))\n",
    "\n",
    "cos_trk_mesh = np.array([[x,y] for x in cos_bins for y in trk_bins])\n",
    "linear_interpolator = interpolate.interp1d(table.binning[0], ene_bins, kind='linear')\n",
    "grid_shape = (table.binning[1].shape[0]*table.binning[2].shape[0],3)\n",
    "\n",
    "siren_light_profile, siren_params = load_siren_jax('siren_cprof_mu.pkl')"
   ]
  },
  {
   "cell_type": "code",
   "execution_count": 3,
   "id": "bf877b73-9cb2-4955-9c0c-f0ef66eca5b6",
   "metadata": {},
   "outputs": [
    {
     "name": "stdout",
     "output_type": "stream",
     "text": [
      "Energy 300: Integral = 0.0080 (error estimate: 0.0001)\n",
      "Energy 400: Integral = 0.0134 (error estimate: 0.0001)\n",
      "Energy 500: Integral = 0.0194 (error estimate: 0.0002)\n",
      "Energy 600: Integral = 0.0258 (error estimate: 0.0002)\n",
      "Energy 700: Integral = 0.0321 (error estimate: 0.0002)\n",
      "Energy 800: Integral = 0.0392 (error estimate: 0.0003)\n",
      "Energy 900: Integral = 0.0452 (error estimate: 0.0003)\n"
     ]
    }
   ],
   "source": [
    "from scipy import stats\n",
    "\n",
    "energies = [300, 400, 500, 600, 700, 800, 900]\n",
    "\n",
    "def integrand(points):\n",
    "    value, _ = siren_light_profile.apply(siren_params, points)\n",
    "    return value\n",
    "\n",
    "integ_phot = []\n",
    "integ_phot_err = []\n",
    "def monte_carlo_integrate(energy, n_samples=1000000):\n",
    "    x_min, x_max = min(cos_bins), max(cos_bins)\n",
    "    y_min, y_max = min(trk_bins), max(trk_bins)\n",
    "    \n",
    "    # Generate random points in the integration domain\n",
    "    x_samples = stats.uniform.rvs(x_min, x_max - x_min, size=n_samples)\n",
    "    y_samples = stats.uniform.rvs(y_min, y_max - y_min, size=n_samples)\n",
    "\n",
    "    points = jnp.array(np.array([[linear_interpolator(energy), x, y] for x, y in zip(x_samples, y_samples)]))\n",
    "    values = integrand(points)\n",
    "\n",
    "    # Calculate integral and error estimate\n",
    "    area = (x_max - x_min) * (y_max - y_min)\n",
    "    result = area * np.mean(values)\n",
    "    error = area * np.std(values) / np.sqrt(n_samples)\n",
    "    \n",
    "    return result, error\n",
    "\n",
    "# Use it in the main loop\n",
    "for energy in energies:\n",
    "    result, err = monte_carlo_integrate(energy)\n",
    "    integ_phot.append(result)\n",
    "    integ_phot_err.append(err)\n",
    "    print(f\"Energy {energy}: Integral = {result:.4f} (error estimate: {err:.4f})\")"
   ]
  },
  {
   "cell_type": "code",
   "execution_count": 4,
   "id": "437e1ab7-7b3c-4c52-acfd-c70085d3faf5",
   "metadata": {},
   "outputs": [
    {
     "data": {
      "text/plain": [
       "11949274.267137123"
      ]
     },
     "execution_count": 4,
     "metadata": {},
     "output_type": "execute_result"
    }
   ],
   "source": [
    "delta_X = table.binning[0][-1]-table.binning[0][0]\n",
    "delta_Y = table.binning[1][-1]-table.binning[1][0]\n",
    "delta_Z = table.binning[2][-1]-table.binning[2][0]\n",
    "\n",
    "delta_X, delta_Y, delta_Z\n",
    "\n",
    "1e4*(delta_Y*delta_Z)"
   ]
  },
  {
   "cell_type": "code",
   "execution_count": 5,
   "id": "faea299e-93cf-4283-808c-9a1b27d664a2",
   "metadata": {},
   "outputs": [],
   "source": [
    "from tools.generate import new_differentiable_get_rays\n",
    "from tools.simulation import create_siren_grid\n",
    "\n",
    "table_data = create_siren_grid(table)\n",
    "\n",
    "origin = jnp.array([0.5, 0.0, -0.5])\n",
    "direction = jnp.array([1.0, -1.0, 0.2])\n",
    "Nphot = 3_000_000\n",
    "key = random.PRNGKey(0)\n",
    "\n",
    "sum_phot_w = []\n",
    "for i, energy in enumerate(energies):\n",
    "\n",
    "    ray_vectors, ray_origins, photon_weights = new_differentiable_get_rays(origin, direction, energy, Nphot, table_data, siren_params, key)\n",
    "    sum_phot_w.append(np.sum(photon_weights))\n"
   ]
  },
  {
   "cell_type": "code",
   "execution_count": 6,
   "id": "6f8bda15-2331-4e2a-85ad-8ca5ba671503",
   "metadata": {},
   "outputs": [
    {
     "data": {
      "text/plain": [
       "array([ 6.27759495e-05, -1.14906746e-02])"
      ]
     },
     "execution_count": 6,
     "metadata": {},
     "output_type": "execute_result"
    },
    {
     "data": {
      "image/png": "[encoded data removed]",
      "text/plain": [
       "<Figure size 300x300 with 1 Axes>"
      ]
     },
     "metadata": {},
     "output_type": "display_data"
    }
   ],
   "source": [
    "import numpy as np\n",
    "\n",
    "# Create the linear fit\n",
    "fig, axes = plt.subplots(1,1, figsize=(3,3))\n",
    "coefficients = np.polyfit(energies,  np.array(integ_phot), 1)  # 1 indicates linear fit\n",
    "fit_line = np.poly1d(coefficients)\n",
    "\n",
    "plt.plot(energies, fit_line(energies), '-k', label=f'Linear fit')\n",
    "plt.scatter(energies, integ_phot, color='r', zorder=4)\n",
    "plt.legend()\n",
    "\n",
    "coefficients"
   ]
  },
  {
   "cell_type": "code",
   "execution_count": 7,
   "id": "843739c6-eebd-4399-9ee5-26f69e2dd9e8",
   "metadata": {},
   "outputs": [
    {
     "data": {
      "text/plain": [
       "array([ 87732.88873833, 162745.59251221, 237758.2962861 , 312771.00005999,\n",
       "       387783.70383387, 462796.40760776, 537809.11138165])"
      ]
     },
     "execution_count": 7,
     "metadata": {},
     "output_type": "execute_result"
    }
   ],
   "source": [
    "import numpy as np\n",
    "\n",
    "siren_inverse_norm = 1e4*(delta_Y*delta_Z)\n",
    "siren_integral_from_fit = np.array([x*coefficients[0]+coefficients[1] for x in energies])\n",
    "\n",
    "siren_inverse_norm*siren_integral_from_fit"
   ]
  },
  {
   "cell_type": "markdown",
   "id": "5908b2f7-10a9-40ae-8a7c-40b202143fc8",
   "metadata": {},
   "source": [
    "### this seems unphysically large! by a factor ~5"
   ]
  },
  {
   "cell_type": "code",
   "execution_count": 8,
   "id": "fdf2be75-25ec-4b5a-95c1-a177bd95cccf",
   "metadata": {},
   "outputs": [
    {
     "data": {
      "text/plain": [
       "[<matplotlib.lines.Line2D at 0x2ba9838e0>]"
      ]
     },
     "execution_count": 8,
     "metadata": {},
     "output_type": "execute_result"
    },
    {
     "data": {
      "image/png": "[encoded data removed]",
      "text/plain": [
       "<Figure size 640x480 with 1 Axes>"
      ]
     },
     "metadata": {},
     "output_type": "display_data"
    }
   ],
   "source": [
    "plt.scatter(energies, siren_inverse_norm*siren_integral_from_fit)\n",
    "plt.plot(energies, siren_inverse_norm*siren_integral_from_fit)"
   ]
  },
  {
   "cell_type": "code",
   "execution_count": null,
   "id": "75426353-7fb9-4aa1-a379-9787837ec3ce",
   "metadata": {},
   "outputs": [],
   "source": []
  }
 ],
 "metadata": {
  "kernelspec": {
   "display_name": "Python 3 (ipykernel)",
   "language": "python",
   "name": "python3"
  },
  "language_info": {
   "codemirror_mode": {
    "name": "ipython",
    "version": 3
   },
   "file_extension": ".py",
   "mimetype": "text/x-python",
   "name": "python",
   "nbconvert_exporter": "python",
   "pygments_lexer": "ipython3",
   "version": "3.10.13"
  }
 },
 "nbformat": 4,
 "nbformat_minor": 5
}
