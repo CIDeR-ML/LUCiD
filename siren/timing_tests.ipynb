{
 "cells": [
  {
   "cell_type": "code",
   "execution_count": 1,
   "id": "678ba244-b526-4cad-8022-48d24d293885",
   "metadata": {},
   "outputs": [],
   "source": [
    "import sys\n",
    "sys.path.append('..')\n",
    "\n",
    "from tools.siren import *\n",
    "from tools.table import *\n",
    "\n",
    "from tools.simulation import create_siren_grid\n",
    "from tools.generate import new_differentiable_get_rays\n",
    "\n",
    "import matplotlib.pyplot as plt\n",
    "from matplotlib.colors import LogNorm\n",
    "\n",
    "import time\n",
    "\n",
    "table = Table('cprof_mu_train_10000ev.h5')\n",
    "table_data = create_siren_grid(table)\n",
    "siren_model, model_params = load_siren_jax('siren_cprof_mu.pkl')\n",
    "origin = jnp.array([0.5, 0.0, -0.5])\n",
    "direction = jnp.array([1.0, -1.0, 0.2])\n",
    "Nphot = 1000000\n",
    "energy =500\n",
    "key = random.PRNGKey(0)"
   ]
  },
  {
   "cell_type": "code",
   "execution_count": 2,
   "id": "24058dc5-2526-4f2a-80cb-4549f4b65831",
   "metadata": {},
   "outputs": [],
   "source": [
    "# import time\n",
    "# import jax\n",
    "\n",
    "# import sys\n",
    "# sys.path.append('..')\n",
    "\n",
    "# from tools.generate import new_differentiable_get_rays\n",
    "\n",
    "# Nphot = 1000000\n",
    "# energy =500\n",
    "\n",
    "# def profile_function(f, *args, **kwargs):\n",
    "#     # Compile the function first\n",
    "#     results = f(*args, **kwargs)\n",
    "#     jax.block_until_ready(results)  # Use jax.block_until_ready on the tuple\n",
    "    \n",
    "#     # Measure runtime\n",
    "#     times = []\n",
    "#     for _ in range(3):  # Number of iterations\n",
    "#         start = time.perf_counter()\n",
    "#         results = f(*args, **kwargs)\n",
    "#         jax.block_until_ready(results)  # Block on all results\n",
    "#         end = time.perf_counter()\n",
    "#         times.append(end - start)\n",
    "    \n",
    "#     print(f\"Average runtime: {sum(times)/len(times)*1000:.2f} ms\")\n",
    "#     print(f\"Min runtime: {min(times)*1000:.2f} ms\")\n",
    "#     print(f\"Max runtime: {max(times)*1000:.2f} ms\")\n",
    "\n",
    "# # Use it"
   ]
  },
  {
   "cell_type": "code",
   "execution_count": 3,
   "id": "602ac713-5a55-4bd9-87f7-c14d75400770",
   "metadata": {},
   "outputs": [],
   "source": [
    "import time\n",
    "import jax\n",
    "from tools.generate import differentiable_get_rays\n",
    "\n",
    "Nphot = 100_000\n",
    "\n",
    "def profile_function(f, *args, **kwargs):\n",
    "    # Compile the function first\n",
    "    results = f(*args, **kwargs)\n",
    "    jax.block_until_ready(results)  # Use jax.block_until_ready on the tuple\n",
    "    \n",
    "    # Measure runtime\n",
    "    times = []\n",
    "    for _ in range(20):  # Number of iterations\n",
    "        start = time.perf_counter()\n",
    "        results = f(*args, **kwargs)\n",
    "        jax.block_until_ready(results)  # Block on all results\n",
    "        end = time.perf_counter()\n",
    "        times.append(end - start)\n",
    "    \n",
    "    print(f\"Average runtime: {sum(times)/len(times)*1000:.2f} ms\")\n",
    "    print(f\"Min runtime: {min(times)*1000:.2f} ms\")\n",
    "    print(f\"Max runtime: {max(times)*1000:.2f} ms\")"
   ]
  },
  {
   "cell_type": "code",
   "execution_count": 4,
   "id": "1b293221-051b-4e1a-9561-e88f82fbf57c",
   "metadata": {},
   "outputs": [
    {
     "name": "stdout",
     "output_type": "stream",
     "text": [
      "Average runtime: 2.79 ms\n",
      "Min runtime: 2.53 ms\n",
      "Max runtime: 3.06 ms\n"
     ]
    }
   ],
   "source": [
    "# The old generate function\n",
    "profile_function(differentiable_get_rays, origin, direction, 40, Nphot, key)"
   ]
  },
  {
   "cell_type": "code",
   "execution_count": 5,
   "id": "8add131a-215a-4553-8b39-1c87361adc35",
   "metadata": {},
   "outputs": [
    {
     "name": "stdout",
     "output_type": "stream",
     "text": [
      "Average runtime: 301.59 ms\n",
      "Min runtime: 298.48 ms\n",
      "Max runtime: 314.67 ms\n"
     ]
    }
   ],
   "source": [
    "# The new generate function\n",
    "profile_function(new_differentiable_get_rays, origin, direction, energy, Nphot, table_data, model_params, key)"
   ]
  },
  {
   "cell_type": "code",
   "execution_count": 6,
   "id": "c3343d82-fc7e-43d1-b136-920998c14190",
   "metadata": {},
   "outputs": [],
   "source": [
    "import jax\n",
    "import jax.numpy as jnp\n",
    "\n",
    "def create_random_points(M):\n",
    "    \"\"\"\n",
    "    Create M random points in 3D space where:\n",
    "    - X and Y coordinates are randomly sampled from [-1, 1]\n",
    "    - Z coordinate is fixed to 0\n",
    "    \n",
    "    Args:\n",
    "        M (int): Number of points\n",
    "        \n",
    "    Returns:\n",
    "        jnp.ndarray: Array of shape (M, 3) containing the 3D points\n",
    "    \"\"\"\n",
    "    key = jax.random.PRNGKey(0)\n",
    "    \n",
    "    # Generate random X and Y coordinates\n",
    "    xy = jax.random.uniform(key, shape=(M, 2), minval=-1, maxval=1)\n",
    "    \n",
    "    # Create zeros for Z coordinate\n",
    "    z = jnp.zeros((M, 1))\n",
    "    \n",
    "    # Concatenate to get final points\n",
    "    points = jnp.concatenate([xy, z], axis=1)\n",
    "    \n",
    "    return points\n",
    "\n",
    "random_points = create_random_points(Nphot)"
   ]
  },
  {
   "cell_type": "code",
   "execution_count": 7,
   "id": "a40fcd69-71ba-4891-8379-30c734de7606",
   "metadata": {},
   "outputs": [],
   "source": [
    "import sys\n",
    "sys.path.append('..')\n",
    "\n",
    "from tools.siren import *\n",
    "from tools.table import *\n",
    "\n",
    "from tools.simulation import create_siren_grid\n",
    "from tools.generate import new_differentiable_get_rays\n",
    "\n",
    "import matplotlib.pyplot as plt\n",
    "from matplotlib.colors import LogNorm\n",
    "\n",
    "siren_model, model_params = load_siren_jax('siren_cprof_mu.pkl')\n",
    "\n",
    "# Initialize SIREN model\n",
    "model = SIREN(\n",
    "    hidden_features=256,\n",
    "    hidden_layers=3,\n",
    "    out_features=1,\n",
    "    outermost_linear=True\n",
    ")\n",
    "\n",
    "photon_weights, _ = model.apply(model_params, random_points)"
   ]
  },
  {
   "cell_type": "code",
   "execution_count": 8,
   "id": "d1843ea0-dd28-4da6-9262-afe0d0bec3ca",
   "metadata": {},
   "outputs": [
    {
     "name": "stdout",
     "output_type": "stream",
     "text": [
      "Average runtime: 408.20 ms\n",
      "Min runtime: 398.53 ms\n",
      "Max runtime: 439.48 ms\n"
     ]
    }
   ],
   "source": [
    "profile_function(model.apply, model_params, random_points)"
   ]
  },
  {
   "cell_type": "code",
   "execution_count": null,
   "id": "4290bec6-4b27-46d0-8e5b-816c9a67f2ea",
   "metadata": {},
   "outputs": [],
   "source": []
  }
 ],
 "metadata": {
  "kernelspec": {
   "display_name": "Python 3 (ipykernel)",
   "language": "python",
   "name": "python3"
  },
  "language_info": {
   "codemirror_mode": {
    "name": "ipython",
    "version": 3
   },
   "file_extension": ".py",
   "mimetype": "text/x-python",
   "name": "python",
   "nbconvert_exporter": "python",
   "pygments_lexer": "ipython3",
   "version": "3.10.13"
  }
 },
 "nbformat": 4,
 "nbformat_minor": 5
}
